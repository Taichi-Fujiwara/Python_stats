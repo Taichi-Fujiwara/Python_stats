{
  "nbformat": 4,
  "nbformat_minor": 0,
  "metadata": {
    "colab": {
      "provenance": [],
      "authorship_tag": "ABX9TyNY/Dp31BlJ6AL9cov+fjex",
      "include_colab_link": true
    },
    "kernelspec": {
      "name": "python3",
      "display_name": "Python 3"
    },
    "language_info": {
      "name": "python"
    }
  },
  "cells": [
    {
      "cell_type": "markdown",
      "metadata": {
        "id": "view-in-github",
        "colab_type": "text"
      },
      "source": [
        "<a href=\"https://colab.research.google.com/github/Taichi-Fujiwara/Python_stats/blob/main/reg_basic.ipynb\" target=\"_parent\"><img src=\"https://colab.research.google.com/assets/colab-badge.svg\" alt=\"Open In Colab\"/></a>"
      ]
    },
    {
      "cell_type": "markdown",
      "source": [
        "# 単回帰分析"
      ],
      "metadata": {
        "id": "qyCRWJAjnqPV"
      }
    },
    {
      "cell_type": "markdown",
      "source": [
        "## csvの取得"
      ],
      "metadata": {
        "id": "_FCjtSlrMQ9z"
      }
    },
    {
      "cell_type": "code",
      "execution_count": 12,
      "metadata": {
        "id": "WdV4ksz6mPLv"
      },
      "outputs": [],
      "source": [
        "import pandas as pd\n",
        "\n",
        "df = pd.read_csv('/content/sample.csv')\n",
        "\n",
        "x = df[['temperature']]\n",
        "y = df[['Quantity']]"
      ]
    },
    {
      "cell_type": "markdown",
      "source": [
        "## xとyの可視化"
      ],
      "metadata": {
        "id": "w9Q9m3VDNFR_"
      }
    },
    {
      "cell_type": "code",
      "source": [
        "import matplotlib.pyplot as plt\n",
        "\n",
        "plt.plot(x, y, 'o')\n",
        "plt.show()"
      ],
      "metadata": {
        "colab": {
          "base_uri": "https://localhost:8080/",
          "height": 265
        },
        "id": "EMepjgLLM2E3",
        "outputId": "42d06364-01ed-413c-de88-7dd5317e388c"
      },
      "execution_count": 13,
      "outputs": [
        {
          "output_type": "display_data",
          "data": {
            "text/plain": [
              "<Figure size 432x288 with 1 Axes>"
            ],
            "image/png": "[encoded data removed]"
          },
          "metadata": {
            "needs_background": "light"
          }
        }
      ]
    },
    {
      "cell_type": "markdown",
      "source": [
        "## モデル構築"
      ],
      "metadata": {
        "id": "-GL3JQIxPexD"
      }
    },
    {
      "cell_type": "code",
      "source": [
        "from sklearn.linear_model import LinearRegression\n",
        "\n",
        "model = LinearRegression()\n",
        "model.fit(x, y)\n",
        "\n",
        "a = model.coef_\n",
        "b = model.intercept_\n",
        "\n",
        "print(\"回帰係数 : %.2f\" %a)\n",
        "print(\"切片 : %.2f\" %b)\n",
        "print(\"モデル式 : y = %.2fx + %.2f\" %(a,b))"
      ],
      "metadata": {
        "colab": {
          "base_uri": "https://localhost:8080/"
        },
        "id": "WI-DsZDcNM74",
        "outputId": "c3e5afb3-0e48-4dd4-a8ed-e595121c80b1"
      },
      "execution_count": 27,
      "outputs": [
        {
          "output_type": "stream",
          "name": "stdout",
          "text": [
            "回帰係数 : 1.07\n",
            "切片 : 6.75\n",
            "モデル式 : y = 1.07x + 6.75\n"
          ]
        }
      ]
    },
    {
      "cell_type": "code",
      "source": [
        "plt.plot(x, y, 'o')\n",
        "plt.plot(x, model.predict(x))\n",
        "plt.show()"
      ],
      "metadata": {
        "colab": {
          "base_uri": "https://localhost:8080/",
          "height": 265
        },
        "id": "Hx90z5rbPhDx",
        "outputId": "7a1894fa-0d4a-493f-d8c8-cbb6d2bb4661"
      },
      "execution_count": 30,
      "outputs": [
        {
          "output_type": "display_data",
          "data": {
            "text/plain": [
              "<Figure size 432x288 with 1 Axes>"
            ],
            "image/png": "[encoded data removed]"
          },
          "metadata": {
            "needs_background": "light"
          }
        }
      ]
    },
    {
      "cell_type": "markdown",
      "source": [
        "## 決定係数"
      ],
      "metadata": {
        "id": "38EmVHOleJlw"
      }
    },
    {
      "cell_type": "code",
      "source": [
        "print(\"決定係数 : %.2f\" %model.score(x, y))"
      ],
      "metadata": {
        "colab": {
          "base_uri": "https://localhost:8080/"
        },
        "id": "SynyTmC7TBCD",
        "outputId": "822acb50-e2dd-43d3-909f-5c90d155ceed"
      },
      "execution_count": 33,
      "outputs": [
        {
          "output_type": "stream",
          "name": "stdout",
          "text": [
            "決定係数 : 0.57\n"
          ]
        }
      ]
    }
  ]
}